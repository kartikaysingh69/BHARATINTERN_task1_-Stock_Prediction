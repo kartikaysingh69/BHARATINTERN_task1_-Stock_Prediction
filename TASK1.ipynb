{
 "cells": [
  {
   "cell_type": "code",
   "execution_count": 1,
   "id": "e13eac9e",
   "metadata": {},
   "outputs": [
    {
     "name": "stdout",
     "output_type": "stream",
     "text": [
      "Defaulting to user installation because normal site-packages is not writeable\n",
      "Requirement already satisfied: numpy in c:\\users\\karti\\appdata\\roaming\\python\\python311\\site-packages (1.24.3)\n",
      "Requirement already satisfied: pandas in c:\\users\\karti\\appdata\\roaming\\python\\python311\\site-packages (2.1.1)\n",
      "Requirement already satisfied: matplotlib in c:\\programdata\\anaconda3\\lib\\site-packages (3.7.1)\n",
      "Requirement already satisfied: scikit-learn in c:\\users\\karti\\appdata\\roaming\\python\\python311\\site-packages (1.3.1)\n",
      "Requirement already satisfied: tensorflow in c:\\users\\karti\\appdata\\roaming\\python\\python311\\site-packages (2.13.0)\n",
      "Requirement already satisfied: python-dateutil>=2.8.2 in c:\\programdata\\anaconda3\\lib\\site-packages (from pandas) (2.8.2)\n",
      "Requirement already satisfied: pytz>=2020.1 in c:\\programdata\\anaconda3\\lib\\site-packages (from pandas) (2022.7)\n",
      "Requirement already satisfied: tzdata>=2022.1 in c:\\users\\karti\\appdata\\roaming\\python\\python311\\site-packages (from pandas) (2023.3)\n",
      "Requirement already satisfied: contourpy>=1.0.1 in c:\\programdata\\anaconda3\\lib\\site-packages (from matplotlib) (1.0.5)\n",
      "Requirement already satisfied: cycler>=0.10 in c:\\programdata\\anaconda3\\lib\\site-packages (from matplotlib) (0.11.0)\n",
      "Requirement already satisfied: fonttools>=4.22.0 in c:\\programdata\\anaconda3\\lib\\site-packages (from matplotlib) (4.25.0)\n",
      "Requirement already satisfied: kiwisolver>=1.0.1 in c:\\programdata\\anaconda3\\lib\\site-packages (from matplotlib) (1.4.4)\n",
      "Requirement already satisfied: packaging>=20.0 in c:\\programdata\\anaconda3\\lib\\site-packages (from matplotlib) (23.0)\n",
      "Requirement already satisfied: pillow>=6.2.0 in c:\\programdata\\anaconda3\\lib\\site-packages (from matplotlib) (9.4.0)\n",
      "Requirement already satisfied: pyparsing>=2.3.1 in c:\\programdata\\anaconda3\\lib\\site-packages (from matplotlib) (3.0.9)\n",
      "Requirement already satisfied: scipy>=1.5.0 in c:\\programdata\\anaconda3\\lib\\site-packages (from scikit-learn) (1.10.1)\n",
      "Requirement already satisfied: joblib>=1.1.1 in c:\\programdata\\anaconda3\\lib\\site-packages (from scikit-learn) (1.2.0)\n",
      "Requirement already satisfied: threadpoolctl>=2.0.0 in c:\\programdata\\anaconda3\\lib\\site-packages (from scikit-learn) (2.2.0)\n",
      "Requirement already satisfied: tensorflow-intel==2.13.0 in c:\\users\\karti\\appdata\\roaming\\python\\python311\\site-packages (from tensorflow) (2.13.0)\n",
      "Requirement already satisfied: absl-py>=1.0.0 in c:\\users\\karti\\appdata\\roaming\\python\\python311\\site-packages (from tensorflow-intel==2.13.0->tensorflow) (2.0.0)\n",
      "Requirement already satisfied: astunparse>=1.6.0 in c:\\users\\karti\\appdata\\roaming\\python\\python311\\site-packages (from tensorflow-intel==2.13.0->tensorflow) (1.6.3)\n",
      "Requirement already satisfied: flatbuffers>=23.1.21 in c:\\users\\karti\\appdata\\roaming\\python\\python311\\site-packages (from tensorflow-intel==2.13.0->tensorflow) (23.5.26)\n",
      "Requirement already satisfied: gast<=0.4.0,>=0.2.1 in c:\\users\\karti\\appdata\\roaming\\python\\python311\\site-packages (from tensorflow-intel==2.13.0->tensorflow) (0.4.0)\n",
      "Requirement already satisfied: google-pasta>=0.1.1 in c:\\users\\karti\\appdata\\roaming\\python\\python311\\site-packages (from tensorflow-intel==2.13.0->tensorflow) (0.2.0)\n",
      "Requirement already satisfied: h5py>=2.9.0 in c:\\programdata\\anaconda3\\lib\\site-packages (from tensorflow-intel==2.13.0->tensorflow) (3.7.0)\n",
      "Requirement already satisfied: libclang>=13.0.0 in c:\\users\\karti\\appdata\\roaming\\python\\python311\\site-packages (from tensorflow-intel==2.13.0->tensorflow) (16.0.6)\n",
      "Requirement already satisfied: opt-einsum>=2.3.2 in c:\\users\\karti\\appdata\\roaming\\python\\python311\\site-packages (from tensorflow-intel==2.13.0->tensorflow) (3.3.0)\n",
      "Requirement already satisfied: protobuf!=4.21.0,!=4.21.1,!=4.21.2,!=4.21.3,!=4.21.4,!=4.21.5,<5.0.0dev,>=3.20.3 in c:\\users\\karti\\appdata\\roaming\\python\\python311\\site-packages (from tensorflow-intel==2.13.0->tensorflow) (4.24.3)\n",
      "Requirement already satisfied: setuptools in c:\\programdata\\anaconda3\\lib\\site-packages (from tensorflow-intel==2.13.0->tensorflow) (68.0.0)\n",
      "Requirement already satisfied: six>=1.12.0 in c:\\programdata\\anaconda3\\lib\\site-packages (from tensorflow-intel==2.13.0->tensorflow) (1.16.0)\n",
      "Requirement already satisfied: termcolor>=1.1.0 in c:\\users\\karti\\appdata\\roaming\\python\\python311\\site-packages (from tensorflow-intel==2.13.0->tensorflow) (2.3.0)\n",
      "Requirement already satisfied: typing-extensions<4.6.0,>=3.6.6 in c:\\users\\karti\\appdata\\roaming\\python\\python311\\site-packages (from tensorflow-intel==2.13.0->tensorflow) (4.5.0)\n",
      "Requirement already satisfied: wrapt>=1.11.0 in c:\\programdata\\anaconda3\\lib\\site-packages (from tensorflow-intel==2.13.0->tensorflow) (1.14.1)\n",
      "Requirement already satisfied: grpcio<2.0,>=1.24.3 in c:\\users\\karti\\appdata\\roaming\\python\\python311\\site-packages (from tensorflow-intel==2.13.0->tensorflow) (1.58.0)\n",
      "Requirement already satisfied: tensorboard<2.14,>=2.13 in c:\\users\\karti\\appdata\\roaming\\python\\python311\\site-packages (from tensorflow-intel==2.13.0->tensorflow) (2.13.0)\n",
      "Requirement already satisfied: tensorflow-estimator<2.14,>=2.13.0 in c:\\users\\karti\\appdata\\roaming\\python\\python311\\site-packages (from tensorflow-intel==2.13.0->tensorflow) (2.13.0)\n",
      "Requirement already satisfied: keras<2.14,>=2.13.1 in c:\\users\\karti\\appdata\\roaming\\python\\python311\\site-packages (from tensorflow-intel==2.13.0->tensorflow) (2.13.1)\n",
      "Requirement already satisfied: tensorflow-io-gcs-filesystem>=0.23.1 in c:\\users\\karti\\appdata\\roaming\\python\\python311\\site-packages (from tensorflow-intel==2.13.0->tensorflow) (0.31.0)\n",
      "Requirement already satisfied: wheel<1.0,>=0.23.0 in c:\\programdata\\anaconda3\\lib\\site-packages (from astunparse>=1.6.0->tensorflow-intel==2.13.0->tensorflow) (0.38.4)\n",
      "Requirement already satisfied: google-auth<3,>=1.6.3 in c:\\users\\karti\\appdata\\roaming\\python\\python311\\site-packages (from tensorboard<2.14,>=2.13->tensorflow-intel==2.13.0->tensorflow) (2.23.0)\n",
      "Requirement already satisfied: google-auth-oauthlib<1.1,>=0.5 in c:\\users\\karti\\appdata\\roaming\\python\\python311\\site-packages (from tensorboard<2.14,>=2.13->tensorflow-intel==2.13.0->tensorflow) (1.0.0)\n",
      "Requirement already satisfied: markdown>=2.6.8 in c:\\programdata\\anaconda3\\lib\\site-packages (from tensorboard<2.14,>=2.13->tensorflow-intel==2.13.0->tensorflow) (3.4.1)\n",
      "Requirement already satisfied: requests<3,>=2.21.0 in c:\\programdata\\anaconda3\\lib\\site-packages (from tensorboard<2.14,>=2.13->tensorflow-intel==2.13.0->tensorflow) (2.31.0)\n",
      "Requirement already satisfied: tensorboard-data-server<0.8.0,>=0.7.0 in c:\\users\\karti\\appdata\\roaming\\python\\python311\\site-packages (from tensorboard<2.14,>=2.13->tensorflow-intel==2.13.0->tensorflow) (0.7.1)\n",
      "Requirement already satisfied: werkzeug>=1.0.1 in c:\\programdata\\anaconda3\\lib\\site-packages (from tensorboard<2.14,>=2.13->tensorflow-intel==2.13.0->tensorflow) (2.2.3)\n",
      "Requirement already satisfied: cachetools<6.0,>=2.0.0 in c:\\users\\karti\\appdata\\roaming\\python\\python311\\site-packages (from google-auth<3,>=1.6.3->tensorboard<2.14,>=2.13->tensorflow-intel==2.13.0->tensorflow) (5.3.1)\n",
      "Requirement already satisfied: pyasn1-modules>=0.2.1 in c:\\programdata\\anaconda3\\lib\\site-packages (from google-auth<3,>=1.6.3->tensorboard<2.14,>=2.13->tensorflow-intel==2.13.0->tensorflow) (0.2.8)\n",
      "Requirement already satisfied: rsa<5,>=3.1.4 in c:\\users\\karti\\appdata\\roaming\\python\\python311\\site-packages (from google-auth<3,>=1.6.3->tensorboard<2.14,>=2.13->tensorflow-intel==2.13.0->tensorflow) (4.9)\n",
      "Requirement already satisfied: urllib3<2.0 in c:\\programdata\\anaconda3\\lib\\site-packages (from google-auth<3,>=1.6.3->tensorboard<2.14,>=2.13->tensorflow-intel==2.13.0->tensorflow) (1.26.16)\n",
      "Requirement already satisfied: requests-oauthlib>=0.7.0 in c:\\users\\karti\\appdata\\roaming\\python\\python311\\site-packages (from google-auth-oauthlib<1.1,>=0.5->tensorboard<2.14,>=2.13->tensorflow-intel==2.13.0->tensorflow) (1.3.1)\n",
      "Requirement already satisfied: charset-normalizer<4,>=2 in c:\\programdata\\anaconda3\\lib\\site-packages (from requests<3,>=2.21.0->tensorboard<2.14,>=2.13->tensorflow-intel==2.13.0->tensorflow) (2.0.4)\n",
      "Requirement already satisfied: idna<4,>=2.5 in c:\\programdata\\anaconda3\\lib\\site-packages (from requests<3,>=2.21.0->tensorboard<2.14,>=2.13->tensorflow-intel==2.13.0->tensorflow) (3.4)\n",
      "Requirement already satisfied: certifi>=2017.4.17 in c:\\programdata\\anaconda3\\lib\\site-packages (from requests<3,>=2.21.0->tensorboard<2.14,>=2.13->tensorflow-intel==2.13.0->tensorflow) (2023.7.22)\n",
      "Requirement already satisfied: MarkupSafe>=2.1.1 in c:\\programdata\\anaconda3\\lib\\site-packages (from werkzeug>=1.0.1->tensorboard<2.14,>=2.13->tensorflow-intel==2.13.0->tensorflow) (2.1.1)\n",
      "Requirement already satisfied: pyasn1<0.5.0,>=0.4.6 in c:\\programdata\\anaconda3\\lib\\site-packages (from pyasn1-modules>=0.2.1->google-auth<3,>=1.6.3->tensorboard<2.14,>=2.13->tensorflow-intel==2.13.0->tensorflow) (0.4.8)\n",
      "Requirement already satisfied: oauthlib>=3.0.0 in c:\\users\\karti\\appdata\\roaming\\python\\python311\\site-packages (from requests-oauthlib>=0.7.0->google-auth-oauthlib<1.1,>=0.5->tensorboard<2.14,>=2.13->tensorflow-intel==2.13.0->tensorflow) (3.2.2)\n",
      "Note: you may need to restart the kernel to use updated packages.\n"
     ]
    }
   ],
   "source": [
    "pip install numpy pandas matplotlib scikit-learn tensorflow"
   ]
  },
  {
   "cell_type": "code",
   "execution_count": 41,
   "id": "04397176",
   "metadata": {},
   "outputs": [],
   "source": [
    "import numpy as np\n",
    "import pandas as pd\n",
    "import matplotlib.pyplot as plt\n",
    "from sklearn.preprocessing import MinMaxScaler\n",
    "from tensorflow.keras.models import Sequential\n",
    "from tensorflow.keras.layers import LSTM, Dense"
   ]
  },
  {
   "cell_type": "code",
   "execution_count": 42,
   "id": "5bce2aee",
   "metadata": {},
   "outputs": [],
   "source": [
    "# Path location:\n",
    "file_path = \"C:\\\\Users\\\\karti\\\\OneDrive\\\\Desktop\\\\TESLA.csv\"\n",
    "# Load the CSV file using the path:\n",
    "data = pd.read_csv(file_path)"
   ]
  },
  {
   "cell_type": "code",
   "execution_count": 43,
   "id": "e7fb5eb1",
   "metadata": {},
   "outputs": [],
   "source": [
    "import pandas as pd\n",
    "from sklearn.preprocessing import MinMaxScaler\n",
    "# Extracting the 'Close' prices as the target variable:\n",
    "data = df[['Close']].values.astype(float)\n",
    "# Normalizing the data:\n",
    "scaler = MinMaxScaler()\n",
    "data = scaler.fit_transform(data)\n",
    "# Splitting the data into training and testing sets:\n",
    "train_size = int(len(data) * 0.80)\n",
    "train_data, test_data = data[:train_size], data[train_size:]"
   ]
  },
  {
   "cell_type": "code",
   "execution_count": 44,
   "id": "789b72c1",
   "metadata": {},
   "outputs": [],
   "source": [
    "# Define the function to create sequences:\n",
    "def create_sequences(data, seq_length):\n",
    "    X, y = [], []\n",
    "    for i in range(len(data) - seq_length):\n",
    "        X.append(data[i:i+seq_length])\n",
    "        y.append(data[i+seq_length])\n",
    "    return np.array(X), np.array(y)\n",
    "seq_length = 10  \n",
    "X_train, y_train = create_sequences(train_data, seq_length)\n",
    "X_test, y_test = create_sequences(test_data, seq_length)"
   ]
  },
  {
   "cell_type": "code",
   "execution_count": 45,
   "id": "899c276e",
   "metadata": {},
   "outputs": [],
   "source": [
    "# Create the model:\n",
    "model = Sequential()\n",
    "model.add(LSTM(units=50, activation='relu', input_shape=(seq_length, 1)))\n",
    "model.add(Dense(units=1))\n",
    "model.compile(optimizer='adam', loss='mean_squared_error')"
   ]
  },
  {
   "cell_type": "code",
   "execution_count": 46,
   "id": "1426304d",
   "metadata": {},
   "outputs": [
    {
     "name": "stdout",
     "output_type": "stream",
     "text": [
      "Epoch 1/50\n",
      "42/42 [==============================] - 1s 3ms/step - loss: 0.1215\n",
      "Epoch 2/50\n",
      "42/42 [==============================] - 0s 3ms/step - loss: 0.0027\n",
      "Epoch 3/50\n",
      "42/42 [==============================] - 0s 3ms/step - loss: 0.0010\n",
      "Epoch 4/50\n",
      "42/42 [==============================] - 0s 3ms/step - loss: 7.7624e-04\n",
      "Epoch 5/50\n",
      "42/42 [==============================] - 0s 3ms/step - loss: 7.0745e-04\n",
      "Epoch 6/50\n",
      "42/42 [==============================] - 0s 3ms/step - loss: 6.9122e-04\n",
      "Epoch 7/50\n",
      "42/42 [==============================] - 0s 3ms/step - loss: 6.7879e-04\n",
      "Epoch 8/50\n",
      "42/42 [==============================] - 0s 4ms/step - loss: 6.3754e-04\n",
      "Epoch 9/50\n",
      "42/42 [==============================] - 0s 3ms/step - loss: 6.6726e-04\n",
      "Epoch 10/50\n",
      "42/42 [==============================] - 0s 3ms/step - loss: 6.4777e-04\n",
      "Epoch 11/50\n",
      "42/42 [==============================] - 0s 4ms/step - loss: 6.0497e-04\n",
      "Epoch 12/50\n",
      "42/42 [==============================] - 0s 3ms/step - loss: 5.8808e-04\n",
      "Epoch 13/50\n",
      "42/42 [==============================] - 0s 3ms/step - loss: 6.2093e-04\n",
      "Epoch 14/50\n",
      "42/42 [==============================] - 0s 3ms/step - loss: 5.9694e-04\n",
      "Epoch 15/50\n",
      "42/42 [==============================] - 0s 3ms/step - loss: 5.7317e-04\n",
      "Epoch 16/50\n",
      "42/42 [==============================] - 0s 3ms/step - loss: 5.6955e-04\n",
      "Epoch 17/50\n",
      "42/42 [==============================] - 0s 4ms/step - loss: 5.7561e-04\n",
      "Epoch 18/50\n",
      "42/42 [==============================] - 0s 3ms/step - loss: 5.8429e-04\n",
      "Epoch 19/50\n",
      "42/42 [==============================] - 0s 3ms/step - loss: 5.5298e-04\n",
      "Epoch 20/50\n",
      "42/42 [==============================] - 0s 3ms/step - loss: 5.9608e-04\n",
      "Epoch 21/50\n",
      "42/42 [==============================] - 0s 4ms/step - loss: 5.8061e-04\n",
      "Epoch 22/50\n",
      "42/42 [==============================] - 0s 3ms/step - loss: 5.5656e-04\n",
      "Epoch 23/50\n",
      "42/42 [==============================] - 0s 3ms/step - loss: 5.0812e-04\n",
      "Epoch 24/50\n",
      "42/42 [==============================] - 0s 4ms/step - loss: 5.0329e-04\n",
      "Epoch 25/50\n",
      "42/42 [==============================] - 0s 3ms/step - loss: 5.1568e-04\n",
      "Epoch 26/50\n",
      "42/42 [==============================] - 0s 3ms/step - loss: 4.8063e-04\n",
      "Epoch 27/50\n",
      "42/42 [==============================] - 0s 4ms/step - loss: 4.8016e-04\n",
      "Epoch 28/50\n",
      "42/42 [==============================] - 0s 3ms/step - loss: 4.8213e-04\n",
      "Epoch 29/50\n",
      "42/42 [==============================] - 0s 3ms/step - loss: 4.5541e-04\n",
      "Epoch 30/50\n",
      "42/42 [==============================] - 0s 4ms/step - loss: 4.7325e-04\n",
      "Epoch 31/50\n",
      "42/42 [==============================] - 0s 3ms/step - loss: 4.6269e-04\n",
      "Epoch 32/50\n",
      "42/42 [==============================] - 0s 3ms/step - loss: 4.4522e-04\n",
      "Epoch 33/50\n",
      "42/42 [==============================] - 0s 3ms/step - loss: 4.4023e-04\n",
      "Epoch 34/50\n",
      "42/42 [==============================] - 0s 3ms/step - loss: 4.6294e-04\n",
      "Epoch 35/50\n",
      "42/42 [==============================] - 0s 3ms/step - loss: 4.2308e-04\n",
      "Epoch 36/50\n",
      "42/42 [==============================] - 0s 3ms/step - loss: 4.2736e-04\n",
      "Epoch 37/50\n",
      "42/42 [==============================] - 0s 3ms/step - loss: 4.3470e-04\n",
      "Epoch 38/50\n",
      "42/42 [==============================] - 0s 3ms/step - loss: 4.2713e-04\n",
      "Epoch 39/50\n",
      "42/42 [==============================] - 0s 3ms/step - loss: 4.1315e-04\n",
      "Epoch 40/50\n",
      "42/42 [==============================] - 0s 3ms/step - loss: 4.0485e-04\n",
      "Epoch 41/50\n",
      "42/42 [==============================] - 0s 3ms/step - loss: 4.6211e-04\n",
      "Epoch 42/50\n",
      "42/42 [==============================] - 0s 3ms/step - loss: 4.1729e-04\n",
      "Epoch 43/50\n",
      "42/42 [==============================] - 0s 4ms/step - loss: 4.1387e-04\n",
      "Epoch 44/50\n",
      "42/42 [==============================] - 0s 3ms/step - loss: 4.1175e-04\n",
      "Epoch 45/50\n",
      "42/42 [==============================] - 0s 3ms/step - loss: 4.0428e-04\n",
      "Epoch 46/50\n",
      "42/42 [==============================] - 0s 3ms/step - loss: 4.2723e-04\n",
      "Epoch 47/50\n",
      "42/42 [==============================] - 0s 3ms/step - loss: 3.9562e-04\n",
      "Epoch 48/50\n",
      "42/42 [==============================] - 0s 3ms/step - loss: 4.1400e-04\n",
      "Epoch 49/50\n",
      "42/42 [==============================] - 0s 4ms/step - loss: 3.9573e-04\n",
      "Epoch 50/50\n",
      "42/42 [==============================] - 0s 3ms/step - loss: 4.1933e-04\n"
     ]
    },
    {
     "data": {
      "text/plain": [
       "<keras.src.callbacks.History at 0x2308a830c90>"
      ]
     },
     "execution_count": 46,
     "metadata": {},
     "output_type": "execute_result"
    }
   ],
   "source": [
    "model.fit(X_train, y_train, epochs=50, batch_size=32)"
   ]
  },
  {
   "cell_type": "code",
   "execution_count": 47,
   "id": "3705b657",
   "metadata": {},
   "outputs": [
    {
     "name": "stdout",
     "output_type": "stream",
     "text": [
      "11/11 [==============================] - 0s 2ms/step - loss: 5.6476e-04\n",
      "Test Loss: 0.0006\n"
     ]
    }
   ],
   "source": [
    "loss = model.evaluate(X_test, y_test)\n",
    "print(f\"Test Loss: {loss:.4f}\")"
   ]
  },
  {
   "cell_type": "code",
   "execution_count": 48,
   "id": "f5493694",
   "metadata": {},
   "outputs": [
    {
     "name": "stdout",
     "output_type": "stream",
     "text": [
      "11/11 [==============================] - 0s 2ms/step\n"
     ]
    }
   ],
   "source": [
    "predicted = model.predict(X_test)\n",
    "# Inverse transform the predictions to the original scale:\n",
    "predicted = scaler.inverse_transform(predicted)"
   ]
  },
  {
   "cell_type": "code",
   "execution_count": 49,
   "id": "eaeeba7e",
   "metadata": {},
   "outputs": [
    {
     "data": {
      "image/png": "[encoded data removed]",
      "text/plain": [
       "<Figure size 400x400 with 1 Axes>"
      ]
     },
     "metadata": {},
     "output_type": "display_data"
    }
   ],
   "source": [
    "plt.figure(figsize=(4, 4))\n",
    "plt.plot(df.index[-len(y_test):], scaler.inverse_transform(y_test), label='Actual')\n",
    "plt.plot(df.index[-len(y_test):], predicted, label='Predicted')\n",
    "plt.title('Stock Price')\n",
    "plt.legend()\n",
    "plt.show()"
   ]
  },
  {
   "cell_type": "code",
   "execution_count": null,
   "id": "54b46600",
   "metadata": {},
   "outputs": [],
   "source": []
  }
 ],
 "metadata": {
  "kernelspec": {
   "display_name": "Python 3 (ipykernel)",
   "language": "python",
   "name": "python3"
  },
  "language_info": {
   "codemirror_mode": {
    "name": "ipython",
    "version": 3
   },
   "file_extension": ".py",
   "mimetype": "text/x-python",
   "name": "python",
   "nbconvert_exporter": "python",
   "pygments_lexer": "ipython3",
   "version": "3.11.4"
  }
 },
 "nbformat": 4,
 "nbformat_minor": 5
}
